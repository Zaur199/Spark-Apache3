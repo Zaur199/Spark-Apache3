{
 "cells": [
  {
   "cell_type": "markdown",
   "metadata": {},
   "source": [
    "Условие: есть набор данных о продажах продуктов с информацией о дате продаж, категории продукта, количестве и выручке от продаж.\n",
    "\n",
    "Используя Apache Spark, загрузите предоставленный набор данных в DataFrame (пример данных ниже).\n",
    "\n",
    "(\"2023-11-20\", \"Electronics\", 100, 12000),\n",
    "(\"2023-11-21\", \"Electronics\", 110, 13000),\n",
    "(\"2023-11-22\", \"Electronics\", 105, 12500),\n",
    "(\"2023-11-20\", \"Clothing\", 300, 15000),\n",
    "(\"2023-11-21\", \"Clothing\", 280, 14000),\n",
    "(\"2023-11-22\", \"Clothing\", 320, 16000),\n",
    "(\"2023-11-20\", \"Books\", 150, 9000),\n",
    "(\"2023-11-21\", \"Books\", 200, 12000),\n",
    "(\"2023-11-22\", \"Books\", 180, 10000)\n",
    "\n",
    "Столбцы: \"date\", \"category\", \"quantity\", \"revenue\".\n",
    "\n",
    "С использованием оконных функций, рассчитайте среднее выручки от продаж для каждой категории продукта.\n",
    "Примените операцию pivot для того, чтобы преобразовать полученные данные таким образом, чтобы в качестве строк были категории продуктов, в качестве столбцов были дни, а значениями были средние значения выручки от продаж за соответствующий день"
   ]
  },
  {
   "cell_type": "code",
   "execution_count": 2,
   "metadata": {},
   "outputs": [],
   "source": [
    "from pyspark.sql import SparkSession\n",
    "from pyspark.sql import Window\n",
    "import pyspark.sql.functions as F"
   ]
  },
  {
   "cell_type": "code",
   "execution_count": 3,
   "metadata": {},
   "outputs": [
    {
     "name": "stderr",
     "output_type": "stream",
     "text": [
      "24/06/02 23:20:29 WARN Utils: Your hostname, MateBook-D16 resolves to a loopback address: 127.0.1.1; using 192.168.1.12 instead (on interface wlp0s20f3)\n",
      "24/06/02 23:20:29 WARN Utils: Set SPARK_LOCAL_IP if you need to bind to another address\n",
      "Setting default log level to \"WARN\".\n",
      "To adjust logging level use sc.setLogLevel(newLevel). For SparkR, use setLogLevel(newLevel).\n",
      "24/06/02 23:20:29 WARN NativeCodeLoader: Unable to load native-hadoop library for your platform... using builtin-java classes where applicable\n"
     ]
    }
   ],
   "source": [
    "# создание Spark сессии\n",
    "spark = SparkSession.builder \\\n",
    "    .appName(\"Sales Analysis\") \\\n",
    "    .getOrCreate()"
   ]
  },
  {
   "cell_type": "code",
   "execution_count": 4,
   "metadata": {},
   "outputs": [],
   "source": [
    "# данные\n",
    "data = [\n",
    "    (\"2023-11-20\", \"Electronics\", 100, 12000),\n",
    "    (\"2023-11-21\", \"Electronics\", 110, 13000),\n",
    "    (\"2023-11-22\", \"Electronics\", 105, 12500),\n",
    "    (\"2023-11-20\", \"Clothing\", 300, 15000),\n",
    "    (\"2023-11-21\", \"Clothing\", 280, 14000),\n",
    "    (\"2023-11-22\", \"Clothing\", 320, 16000),\n",
    "    (\"2023-11-20\", \"Books\", 150, 9000),\n",
    "    (\"2023-11-21\", \"Books\", 200, 12000),\n",
    "    (\"2023-11-22\", \"Books\", 180, 10000)\n",
    "]\n"
   ]
  },
  {
   "cell_type": "code",
   "execution_count": 5,
   "metadata": {},
   "outputs": [],
   "source": [
    "# создание DataFrame\n",
    "df = spark.createDataFrame(data, [\"date\", \"category\", \"quantity\", \"revenue\"])\n"
   ]
  },
  {
   "cell_type": "code",
   "execution_count": 6,
   "metadata": {},
   "outputs": [
    {
     "data": {
      "text/plain": [
       "DataFrame[date: string, category: string, quantity: bigint, revenue: bigint]"
      ]
     },
     "execution_count": 6,
     "metadata": {},
     "output_type": "execute_result"
    }
   ],
   "source": [
    "df"
   ]
  },
  {
   "cell_type": "code",
   "execution_count": 7,
   "metadata": {},
   "outputs": [],
   "source": [
    "# оконная функция для расчета средней выручки по категориям\n",
    "window = Window.partitionBy(\"category\")"
   ]
  },
  {
   "cell_type": "code",
   "execution_count": 8,
   "metadata": {},
   "outputs": [],
   "source": [
    "# добавление столбца с средней выручкой по категории\n",
    "df = df.withColumn(\"avg_revenue\", F.avg(\"revenue\").over(window))"
   ]
  },
  {
   "cell_type": "code",
   "execution_count": 10,
   "metadata": {},
   "outputs": [],
   "source": [
    "# применение операции pivot\n",
    "pivot_df = df.groupBy(\"category\").pivot(\"date\").agg(F.first(\"avg_revenue\")).show()\n"
   ]
  }
 ],
 "metadata": {
  "kernelspec": {
   "display_name": "Python 3",
   "language": "python",
   "name": "python3"
  },
  "language_info": {
   "codemirror_mode": {
    "name": "ipython",
    "version": 3
   },
   "file_extension": ".py",
   "mimetype": "text/x-python",
   "name": "python",
   "nbconvert_exporter": "python",
   "pygments_lexer": "ipython3",
   "version": "3.11.0rc1"
  }
 },
 "nbformat": 4,
 "nbformat_minor": 2
}
